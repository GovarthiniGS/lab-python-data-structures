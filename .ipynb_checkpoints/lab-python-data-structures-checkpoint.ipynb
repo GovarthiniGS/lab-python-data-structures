{
 "cells": [
  {
   "cell_type": "markdown",
   "metadata": {
    "tags": []
   },
   "source": [
    "# Lab | Data Structures "
   ]
  },
  {
   "cell_type": "markdown",
   "metadata": {},
   "source": [
    "## Exercise: Managing Customer Orders\n",
    "\n",
    "As part of a business venture, you are starting an online store that sells various products. To ensure smooth operations, you need to develop a program that manages customer orders and inventory.\n",
    "\n",
    "Follow the steps below to complete the exercise:\n",
    "\n",
    "1. Define a list called `products` that contains the following items: \"t-shirt\", \"mug\", \"hat\", \"book\", \"keychain\".\n",
    "\n",
    "2. Create an empty dictionary called `inventory`.\n",
    "\n",
    "3. Ask the user to input the quantity of each product available in the inventory. Use the product names from the `products` list as keys in the `inventory` dictionary and assign the respective quantities as values.\n",
    "\n",
    "4. Create an empty set called `customer_orders`.\n",
    "\n",
    "5. Ask the user to input the name of three products that a customer wants to order (from those in the products list, meaning three products out of \"t-shirt\", \"mug\", \"hat\", \"book\" or \"keychain\". Add each product name to the `customer_orders` set.\n",
    "\n",
    "6. Print the products in the `customer_orders` set.\n",
    "\n",
    "7. Calculate the following order statistics:\n",
    "   - Total Products Ordered: The total number of products in the `customer_orders` set.\n",
    "   - Percentage of Products Ordered: The percentage of products ordered compared to the total available products.\n",
    "   \n",
    "   Store these statistics in a tuple called `order_status`.\n",
    "\n",
    "8. Print the order statistics using the following format:\n",
    "   ```\n",
    "   Order Statistics:\n",
    "   Total Products Ordered: <total_products_ordered>\n",
    "   Percentage of Products Ordered: <percentage_ordered>% \n",
    "   ```\n",
    "\n",
    "9. Update the inventory by subtracting 1 from the quantity of each product. Modify the `inventory` dictionary accordingly.\n",
    "\n",
    "10. Print the updated inventory, displaying the quantity of each product on separate lines.\n",
    "\n",
    "Solve the exercise by implementing the steps using the Python concepts of lists, dictionaries, sets, and basic input/output operations. "
   ]
  },
  {
   "cell_type": "code",
   "execution_count": 2,
   "metadata": {},
   "outputs": [
    {
     "name": "stdout",
     "output_type": "stream",
     "text": [
      "List of products: ['t-shirt', 'mug', 'hat', 'book', 'keychain']\n"
     ]
    }
   ],
   "source": [
    "# 1.\n",
    "# Define the list of products\n",
    "products = [\"t-shirt\", \"mug\", \"hat\", \"book\", \"keychain\"]\n",
    "\n",
    "# Print the list of products\n",
    "print(\"List of products:\", products)"
   ]
  },
  {
   "cell_type": "code",
   "execution_count": 4,
   "metadata": {},
   "outputs": [
    {
     "name": "stdout",
     "output_type": "stream",
     "text": [
      "Empty inventory: {}\n"
     ]
    }
   ],
   "source": [
    "# 2.\n",
    "# Create an empty dictionary called inventory\n",
    "inventory = {}\n",
    "\n",
    "# Print the empty dictionary\n",
    "print(\"Empty inventory:\", inventory)"
   ]
  },
  {
   "cell_type": "code",
   "execution_count": 22,
   "metadata": {
    "scrolled": true
   },
   "outputs": [
    {
     "name": "stdout",
     "output_type": "stream",
     "text": [
      "Enter the quantity of t-shirt:2\n",
      "Enter the quantity of mug:4\n",
      "Enter the quantity of hat:0\n",
      "Enter the quantity of book:6\n",
      "Enter the quantity of keychain:8\n",
      "Inventory: {'t-shirt': 2, 'mug': 4, 'hat': 0, 'book': 6, 'keychain': 8}\n"
     ]
    }
   ],
   "source": [
    "# 3.\n",
    "# Ask the user to input the quantity of each product\n",
    "for product in products:\n",
    "    quantity = int(input(f\"Enter the quantity of {product}: \"))\n",
    "    inventory[product] = quantity\n",
    "\n",
    "# Print the inventory dictionary\n",
    "print(\"Inventory:\", inventory)"
   ]
  },
  {
   "cell_type": "code",
   "execution_count": 7,
   "metadata": {},
   "outputs": [
    {
     "name": "stdout",
     "output_type": "stream",
     "text": [
      "Empty set of customer orders: set()\n"
     ]
    }
   ],
   "source": [
    "# 4.\n",
    "# Create an empty set called customer_orders\n",
    "customer_orders = set()\n",
    "\n",
    "# Print the empty set\n",
    "print(\"Empty set of customer orders:\", customer_orders)"
   ]
  },
  {
   "cell_type": "code",
   "execution_count": 18,
   "metadata": {},
   "outputs": [
    {
     "name": "stdout",
     "output_type": "stream",
     "text": [
      "Enter the name of product 1 out of t-shirt, mug, hat, book, keychain:mug\n",
      "Enter the name of product 2 out of t-shirt, mug, hat, book, keychain:book\n",
      "Enter the name of product 3 out of t-shirt, mug, hat, book, keychain:t-shirt\n",
      "You've chosen the following products: ['mug', 'book', 't-shirt']\n"
     ]
    }
   ],
   "source": [
    "chosen_products = []\n",
    "for i in range(3):\n",
    "    product_name = input(f\"Enter the name of product {i+1} out of {', '.join(products)}: \").strip().lower()\n",
    "    while product_name not in products or product_name in chosen_products:\n",
    "        if product_name not in products:\n",
    "            print(\"Invalid product name. Please choose from the following:\", products)\n",
    "        else:\n",
    "            print(\"You've already chosen that product. Please choose a different one.\")\n",
    "        product_name = input(f\"Enter the name of product {i+1} out of {', '.join(products)}: \").strip().lower()\n",
    "    chosen_products.append(product_name)\n",
    "\n",
    "print(\"You've chosen the following products:\", chosen_products)"
   ]
  },
  {
   "cell_type": "code",
   "execution_count": 24,
   "metadata": {},
   "outputs": [
    {
     "name": "stdout",
     "output_type": "stream",
     "text": [
      "Products in customer orders:\n",
      "book\n",
      "hat\n",
      "t-shirt\n",
      "mug\n",
      "keychain\n"
     ]
    }
   ],
   "source": [
    "# 6.\n",
    "# Print the products in the customer_orders set\n",
    "print(\"Products in customer orders:\")\n",
    "for product in customer_orders:\n",
    "    print(product)\n"
   ]
  },
  {
   "cell_type": "code",
   "execution_count": 20,
   "metadata": {},
   "outputs": [
    {
     "name": "stdout",
     "output_type": "stream",
     "text": [
      "Order Statistics:\n",
      "Total Products Ordered: 5\n",
      "Percentage of Products Ordered: 100.00%\n"
     ]
    }
   ],
   "source": [
    "# 7.\n",
    "# Calculate order statistics\n",
    "total_products_ordered = len(customer_orders)\n",
    "percentage_products_ordered = (total_products_ordered / len(products)) * 100\n",
    "\n",
    "# Store order statistics in a tuple\n",
    "order_status = (total_products_ordered, percentage_products_ordered)\n",
    "\n",
    "# Print order statistics\n",
    "print(\"Order Statistics:\")\n",
    "print(\"Total Products Ordered:\", order_status[0])\n",
    "print(\"Percentage of Products Ordered: {:.2f}%\".format(order_status[1]))\n"
   ]
  },
  {
   "cell_type": "code",
   "execution_count": 25,
   "metadata": {},
   "outputs": [
    {
     "name": "stdout",
     "output_type": "stream",
     "text": [
      "Order Statistics:\n",
      "Total Products Ordered: 5\n",
      "Percentage of Products Ordered: 100.00%\n"
     ]
    }
   ],
   "source": [
    "# 8.\n",
    "# Print order statistics\n",
    "print(\"Order Statistics:\")\n",
    "print(\"Total Products Ordered:\", total_products_ordered)\n",
    "print(\"Percentage of Products Ordered: {:.2f}%\".format(percentage_products_ordered))"
   ]
  },
  {
   "cell_type": "code",
   "execution_count": 14,
   "metadata": {},
   "outputs": [
    {
     "name": "stdout",
     "output_type": "stream",
     "text": [
      "Updated Inventory: {'t-shirt': 16, 'mug': 19, 'hat': 44, 'book': 29, 'keychain': 9}\n"
     ]
    }
   ],
   "source": [
    "# 9.\n",
    "# Update the inventory by subtracting 1 from the quantity of each product\n",
    "for product in inventory:\n",
    "    inventory[product] -= 1\n",
    "\n",
    "# Print the updated inventory dictionary\n",
    "print(\"Updated Inventory:\", inventory)"
   ]
  },
  {
   "cell_type": "code",
   "execution_count": 15,
   "metadata": {},
   "outputs": [
    {
     "name": "stdout",
     "output_type": "stream",
     "text": [
      "\n",
      "Updated Inventory:\n",
      "t-shirt: 16\n",
      "mug: 19\n",
      "hat: 44\n",
      "book: 29\n",
      "keychain: 9\n"
     ]
    }
   ],
   "source": [
    "# 10.\n",
    "# Print the updated inventory, displaying the quantity of each product on separate lines\n",
    "print(\"\\nUpdated Inventory:\")\n",
    "for product, quantity in inventory.items():\n",
    "    print(f\"{product}: {quantity}\")\n"
   ]
  }
 ],
 "metadata": {
  "kernelspec": {
   "display_name": "Python 3 (ipykernel)",
   "language": "python",
   "name": "python3"
  },
  "language_info": {
   "codemirror_mode": {
    "name": "ipython",
    "version": 3
   },
   "file_extension": ".py",
   "mimetype": "text/x-python",
   "name": "python",
   "nbconvert_exporter": "python",
   "pygments_lexer": "ipython3",
   "version": "3.11.7"
  }
 },
 "nbformat": 4,
 "nbformat_minor": 4
}
